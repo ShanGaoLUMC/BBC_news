{
 "cells": [
  {
   "cell_type": "markdown",
   "metadata": {},
   "source": [
    "# BBC sport News documents Classification\n",
    "\n",
    "This script is trying to build a predictive model to automatically label the category for each news article. The raw text files are download from http://mlg.ucd.ie/datasets/bbc.html. The main procedure has the following steps:\n",
    "1. Create a dataframe storing all news data.\n",
    "2. Clean and preprocess the raw texts (e.g. remove non-words, word stemming). Create training and test datasets.\n",
    "3. Convert each news article to a feature vector using bag-of-word approach.\n",
    "4. Build a classification pipeline which includes vectorizer, featureSelection, and classifier. \n",
    "5. Train the pipeline with training sets, turn the model parameters.\n",
    "6. Evaluate the trained model. Apply the optimized model to the test datasets for category prediction. Calculate classifcaition accuracy, consufion matrix.\n",
    "7. Take some interesting news from BBC website, preprocess them, and input them to optimized model to see how does the model works. \n",
    "\n",
    "RESULTS:\n",
    "\n",
    "Prediction accuracy of Training set: 0.998\n",
    "\n",
    "Prediction accuracy of Test set: 0.973"
   ]
  },
  {
   "cell_type": "code",
   "execution_count": 1,
   "metadata": {
    "collapsed": true
   },
   "outputs": [],
   "source": [
    "# import the Pyton packages\n",
    "import os\n",
    "import re\n",
    "import pandas as pd\n",
    "import numpy as np\n",
    "from nltk.corpus import stopwords\n",
    "from nltk.stem import SnowballStemmer\n",
    "from sklearn.pipeline import Pipeline\n",
    "from sklearn.svm import LinearSVC\n",
    "from sklearn.model_selection import train_test_split, cross_val_score, GridSearchCV\n",
    "from sklearn.feature_extraction.text import TfidfVectorizer\n",
    "from sklearn.feature_selection import SelectKBest, chi2\n",
    "from sklearn.svm import SVC\n",
    "from sklearn.decomposition import PCA\n",
    "from sklearn.metrics import accuracy_score, confusion_matrix\n",
    "import matplotlib.pyplot as plt\n",
    "import seaborn as sns\n",
    "% matplotlib inline\n",
    "sns.set_style('darkgrid')"
   ]
  },
  {
   "cell_type": "code",
   "execution_count": null,
   "metadata": {
    "collapsed": true
   },
   "outputs": [],
   "source": [
    "# somethings needed to be downloaded from nltk\n",
    "# import nltk\n",
    "# nltk.download('stopwords')"
   ]
  },
  {
   "cell_type": "markdown",
   "metadata": {},
   "source": [
    "## 1. Preparing the data:"
   ]
  },
  {
   "cell_type": "markdown",
   "metadata": {},
   "source": [
    "### 1) DataFrame creation\n",
    "Create a DataFrame which include all raw text files."
   ]
  },
  {
   "cell_type": "code",
   "execution_count": 2,
   "metadata": {
    "collapsed": true
   },
   "outputs": [],
   "source": [
    "# change current directory to given path\n",
    "data_folder = \"bbcsport\"\n",
    "folders = [\"athletics\", \"cricket\", \"football\", \"rugby\", \"tennis\"]\n",
    "os.chdir(data_folder)"
   ]
  },
  {
   "cell_type": "code",
   "execution_count": 3,
   "metadata": {
    "collapsed": true
   },
   "outputs": [
    {
     "name": "stdout",
     "output_type": "stream",
     "text": [
      "reading file: athletics/001.txt\n",
      "reading file: athletics/002.txt\n",
      "reading file: athletics/003.txt\n",
      "reading file: athletics/004.txt\n",
      "reading file: athletics/005.txt\n",
      "reading file: athletics/006.txt\n",
      "reading file: athletics/007.txt\n",
      "reading file: athletics/008.txt\n",
      "reading file: athletics/009.txt\n",
      "reading file: athletics/010.txt\n",
      "reading file: athletics/011.txt\n",
      "reading file: athletics/012.txt\n",
      "reading file: athletics/013.txt\n",
      "reading file: athletics/014.txt\n",
      "reading file: athletics/015.txt\n",
      "reading file: athletics/016.txt\n",
      "reading file: athletics/017.txt\n",
      "reading file: athletics/018.txt\n",
      "reading file: athletics/019.txt\n",
      "reading file: athletics/020.txt\n",
      "reading file: athletics/021.txt\n",
      "reading file: athletics/022.txt\n",
      "reading file: athletics/023.txt\n",
      "reading file: athletics/024.txt\n",
      "reading file: athletics/025.txt\n",
      "reading file: athletics/026.txt\n",
      "reading file: athletics/027.txt\n",
      "reading file: athletics/028.txt\n",
      "reading file: athletics/029.txt\n",
      "reading file: athletics/030.txt\n",
      "reading file: athletics/031.txt\n",
      "reading file: athletics/032.txt\n",
      "reading file: athletics/033.txt\n",
      "reading file: athletics/034.txt\n",
      "reading file: athletics/035.txt\n",
      "reading file: athletics/036.txt\n",
      "reading file: athletics/037.txt\n",
      "reading file: athletics/038.txt\n",
      "reading file: athletics/039.txt\n",
      "reading file: athletics/040.txt\n",
      "reading file: athletics/041.txt\n",
      "reading file: athletics/042.txt\n",
      "reading file: athletics/043.txt\n",
      "reading file: athletics/044.txt\n",
      "reading file: athletics/045.txt\n",
      "reading file: athletics/046.txt\n",
      "reading file: athletics/047.txt\n",
      "reading file: athletics/048.txt\n",
      "reading file: athletics/049.txt\n",
      "reading file: athletics/050.txt\n",
      "reading file: athletics/051.txt\n",
      "reading file: athletics/052.txt\n",
      "reading file: athletics/053.txt\n",
      "reading file: athletics/054.txt\n",
      "reading file: athletics/055.txt\n",
      "reading file: athletics/056.txt\n",
      "reading file: athletics/057.txt\n",
      "reading file: athletics/058.txt\n",
      "reading file: athletics/059.txt\n",
      "reading file: athletics/060.txt\n",
      "reading file: athletics/061.txt\n",
      "reading file: athletics/062.txt\n",
      "reading file: athletics/063.txt\n",
      "reading file: athletics/064.txt\n",
      "reading file: athletics/065.txt\n",
      "reading file: athletics/066.txt\n",
      "reading file: athletics/067.txt\n",
      "reading file: athletics/068.txt\n",
      "reading file: athletics/069.txt\n",
      "reading file: athletics/070.txt\n",
      "reading file: athletics/071.txt\n",
      "reading file: athletics/072.txt\n",
      "reading file: athletics/073.txt\n",
      "reading file: athletics/074.txt\n",
      "reading file: athletics/075.txt\n",
      "reading file: athletics/076.txt\n",
      "reading file: athletics/077.txt\n",
      "reading file: athletics/078.txt\n",
      "reading file: athletics/079.txt\n",
      "reading file: athletics/080.txt\n",
      "reading file: athletics/081.txt\n",
      "reading file: athletics/082.txt\n",
      "reading file: athletics/083.txt\n",
      "reading file: athletics/084.txt\n",
      "reading file: athletics/085.txt\n",
      "reading file: athletics/086.txt\n",
      "reading file: athletics/087.txt\n",
      "reading file: athletics/088.txt\n",
      "reading file: athletics/089.txt\n",
      "reading file: athletics/090.txt\n",
      "reading file: athletics/091.txt\n",
      "reading file: athletics/092.txt\n",
      "reading file: athletics/093.txt\n",
      "reading file: athletics/094.txt\n",
      "reading file: athletics/095.txt\n",
      "reading file: athletics/096.txt\n",
      "reading file: athletics/097.txt\n",
      "reading file: athletics/098.txt\n",
      "reading file: athletics/099.txt\n",
      "reading file: athletics/100.txt\n",
      "reading file: athletics/101.txt\n",
      "reading file: cricket/001.txt\n",
      "reading file: cricket/002.txt\n",
      "reading file: cricket/003.txt\n",
      "reading file: cricket/004.txt\n",
      "reading file: cricket/005.txt\n",
      "reading file: cricket/006.txt\n",
      "reading file: cricket/007.txt\n",
      "reading file: cricket/008.txt\n",
      "reading file: cricket/009.txt\n",
      "reading file: cricket/010.txt\n",
      "reading file: cricket/011.txt\n",
      "reading file: cricket/012.txt\n",
      "reading file: cricket/013.txt\n",
      "reading file: cricket/014.txt\n",
      "reading file: cricket/015.txt\n",
      "reading file: cricket/016.txt\n",
      "reading file: cricket/017.txt\n",
      "reading file: cricket/018.txt\n",
      "reading file: cricket/019.txt\n",
      "reading file: cricket/020.txt\n",
      "reading file: cricket/021.txt\n",
      "reading file: cricket/022.txt\n",
      "reading file: cricket/023.txt\n",
      "reading file: cricket/024.txt\n",
      "reading file: cricket/025.txt\n",
      "reading file: cricket/026.txt\n",
      "reading file: cricket/027.txt\n",
      "reading file: cricket/028.txt\n",
      "reading file: cricket/029.txt\n",
      "reading file: cricket/030.txt\n",
      "reading file: cricket/031.txt\n",
      "reading file: cricket/032.txt\n",
      "reading file: cricket/033.txt\n",
      "reading file: cricket/034.txt\n",
      "reading file: cricket/035.txt\n",
      "reading file: cricket/036.txt\n",
      "reading file: cricket/037.txt\n",
      "reading file: cricket/038.txt\n",
      "reading file: cricket/039.txt\n",
      "reading file: cricket/040.txt\n",
      "reading file: cricket/041.txt\n",
      "reading file: cricket/042.txt\n",
      "reading file: cricket/043.txt\n",
      "reading file: cricket/044.txt\n",
      "reading file: cricket/045.txt\n",
      "reading file: cricket/046.txt\n",
      "reading file: cricket/047.txt\n",
      "reading file: cricket/048.txt\n",
      "reading file: cricket/049.txt\n",
      "reading file: cricket/050.txt\n",
      "reading file: cricket/051.txt\n",
      "reading file: cricket/052.txt\n",
      "reading file: cricket/053.txt\n",
      "reading file: cricket/054.txt\n",
      "reading file: cricket/055.txt\n",
      "reading file: cricket/056.txt\n",
      "reading file: cricket/057.txt\n",
      "reading file: cricket/058.txt\n",
      "reading file: cricket/059.txt\n",
      "reading file: cricket/060.txt\n",
      "reading file: cricket/061.txt\n",
      "reading file: cricket/062.txt\n",
      "reading file: cricket/063.txt\n",
      "reading file: cricket/064.txt\n",
      "reading file: cricket/065.txt\n",
      "reading file: cricket/066.txt\n",
      "reading file: cricket/067.txt\n",
      "reading file: cricket/068.txt\n",
      "reading file: cricket/069.txt\n",
      "reading file: cricket/070.txt\n",
      "reading file: cricket/071.txt\n",
      "reading file: cricket/072.txt\n",
      "reading file: cricket/073.txt\n",
      "reading file: cricket/074.txt\n",
      "reading file: cricket/075.txt\n",
      "reading file: cricket/076.txt\n",
      "reading file: cricket/077.txt\n",
      "reading file: cricket/078.txt\n",
      "reading file: cricket/079.txt\n",
      "reading file: cricket/080.txt\n",
      "reading file: cricket/081.txt\n",
      "reading file: cricket/082.txt\n",
      "reading file: cricket/083.txt\n",
      "reading file: cricket/084.txt\n",
      "reading file: cricket/085.txt\n",
      "reading file: cricket/086.txt\n",
      "reading file: cricket/087.txt\n",
      "reading file: cricket/088.txt\n",
      "reading file: cricket/089.txt\n",
      "reading file: cricket/090.txt\n",
      "reading file: cricket/091.txt\n",
      "reading file: cricket/092.txt\n",
      "reading file: cricket/093.txt\n",
      "reading file: cricket/094.txt\n",
      "reading file: cricket/095.txt\n",
      "reading file: cricket/096.txt\n",
      "reading file: cricket/097.txt\n",
      "reading file: cricket/098.txt\n",
      "reading file: cricket/099.txt\n",
      "reading file: cricket/100.txt\n",
      "reading file: cricket/101.txt\n",
      "reading file: cricket/102.txt\n",
      "reading file: cricket/103.txt\n",
      "reading file: cricket/104.txt\n",
      "reading file: cricket/105.txt\n",
      "reading file: cricket/106.txt\n",
      "reading file: cricket/107.txt\n",
      "reading file: cricket/108.txt\n",
      "reading file: cricket/109.txt\n",
      "reading file: cricket/110.txt\n",
      "reading file: cricket/111.txt\n",
      "reading file: cricket/112.txt\n",
      "reading file: cricket/113.txt\n",
      "reading file: cricket/114.txt\n",
      "reading file: cricket/115.txt\n",
      "reading file: cricket/116.txt\n",
      "reading file: cricket/117.txt\n",
      "reading file: cricket/118.txt\n",
      "reading file: cricket/119.txt\n",
      "reading file: cricket/120.txt\n",
      "reading file: cricket/121.txt\n",
      "reading file: cricket/122.txt\n",
      "reading file: cricket/123.txt\n",
      "reading file: cricket/124.txt\n",
      "reading file: football/001.txt\n",
      "reading file: football/002.txt\n",
      "reading file: football/003.txt\n",
      "reading file: football/004.txt\n",
      "reading file: football/005.txt\n",
      "reading file: football/006.txt\n",
      "reading file: football/007.txt\n",
      "reading file: football/008.txt\n",
      "reading file: football/009.txt\n",
      "reading file: football/010.txt\n",
      "reading file: football/011.txt\n",
      "reading file: football/012.txt\n",
      "reading file: football/013.txt\n",
      "reading file: football/014.txt\n",
      "reading file: football/015.txt\n",
      "reading file: football/016.txt\n",
      "reading file: football/017.txt\n",
      "reading file: football/018.txt\n",
      "reading file: football/019.txt\n",
      "reading file: football/020.txt\n",
      "reading file: football/021.txt\n",
      "reading file: football/022.txt\n",
      "reading file: football/023.txt\n",
      "reading file: football/024.txt\n",
      "reading file: football/025.txt\n",
      "reading file: football/026.txt\n",
      "reading file: football/027.txt\n",
      "reading file: football/028.txt\n",
      "reading file: football/029.txt\n",
      "reading file: football/030.txt\n",
      "reading file: football/031.txt\n",
      "reading file: football/032.txt\n",
      "reading file: football/033.txt\n",
      "reading file: football/034.txt\n",
      "reading file: football/035.txt\n",
      "reading file: football/036.txt\n",
      "reading file: football/037.txt\n",
      "reading file: football/038.txt\n",
      "reading file: football/039.txt\n",
      "reading file: football/040.txt\n",
      "reading file: football/041.txt\n",
      "reading file: football/042.txt\n",
      "reading file: football/043.txt\n",
      "reading file: football/044.txt\n",
      "reading file: football/045.txt\n",
      "reading file: football/046.txt\n",
      "reading file: football/047.txt\n",
      "reading file: football/048.txt\n",
      "reading file: football/049.txt\n",
      "reading file: football/050.txt\n",
      "reading file: football/051.txt\n",
      "reading file: football/052.txt\n",
      "reading file: football/053.txt\n",
      "reading file: football/054.txt\n",
      "reading file: football/055.txt\n",
      "reading file: football/056.txt\n",
      "reading file: football/057.txt\n",
      "reading file: football/058.txt\n",
      "reading file: football/059.txt\n",
      "reading file: football/060.txt\n",
      "reading file: football/061.txt\n",
      "reading file: football/062.txt\n",
      "reading file: football/063.txt\n",
      "reading file: football/064.txt\n",
      "reading file: football/065.txt\n",
      "reading file: football/066.txt\n",
      "reading file: football/067.txt\n",
      "reading file: football/068.txt\n",
      "reading file: football/069.txt\n",
      "reading file: football/070.txt\n",
      "reading file: football/071.txt\n",
      "reading file: football/072.txt\n",
      "reading file: football/073.txt\n",
      "reading file: football/074.txt\n",
      "reading file: football/075.txt\n"
     ]
    },
    {
     "name": "stdout",
     "output_type": "stream",
     "text": [
      "reading file: football/076.txt\n",
      "reading file: football/077.txt\n",
      "reading file: football/078.txt\n",
      "reading file: football/079.txt\n",
      "reading file: football/080.txt\n",
      "reading file: football/081.txt\n",
      "reading file: football/082.txt\n",
      "reading file: football/083.txt\n",
      "reading file: football/084.txt\n",
      "reading file: football/085.txt\n",
      "reading file: football/086.txt\n",
      "reading file: football/087.txt\n",
      "reading file: football/088.txt\n",
      "reading file: football/089.txt\n",
      "reading file: football/090.txt\n",
      "reading file: football/091.txt\n",
      "reading file: football/092.txt\n",
      "reading file: football/093.txt\n",
      "reading file: football/094.txt\n",
      "reading file: football/095.txt\n",
      "reading file: football/096.txt\n",
      "reading file: football/097.txt\n",
      "reading file: football/098.txt\n",
      "reading file: football/099.txt\n",
      "reading file: football/100.txt\n",
      "reading file: football/101.txt\n",
      "reading file: football/102.txt\n",
      "reading file: football/103.txt\n",
      "reading file: football/104.txt\n",
      "reading file: football/105.txt\n",
      "reading file: football/106.txt\n",
      "reading file: football/107.txt\n",
      "reading file: football/108.txt\n",
      "reading file: football/109.txt\n",
      "reading file: football/110.txt\n",
      "reading file: football/111.txt\n",
      "reading file: football/112.txt\n",
      "reading file: football/113.txt\n",
      "reading file: football/114.txt\n",
      "reading file: football/115.txt\n",
      "reading file: football/116.txt\n",
      "reading file: football/117.txt\n",
      "reading file: football/118.txt\n",
      "reading file: football/119.txt\n",
      "reading file: football/120.txt\n",
      "reading file: football/121.txt\n",
      "reading file: football/122.txt\n",
      "reading file: football/123.txt\n",
      "reading file: football/124.txt\n",
      "reading file: football/125.txt\n",
      "reading file: football/126.txt\n",
      "reading file: football/127.txt\n",
      "reading file: football/128.txt\n",
      "reading file: football/129.txt\n",
      "reading file: football/130.txt\n",
      "reading file: football/131.txt\n",
      "reading file: football/132.txt\n",
      "reading file: football/133.txt\n",
      "reading file: football/134.txt\n",
      "reading file: football/135.txt\n",
      "reading file: football/136.txt\n",
      "reading file: football/137.txt\n",
      "reading file: football/138.txt\n",
      "reading file: football/139.txt\n",
      "reading file: football/140.txt\n",
      "reading file: football/141.txt\n",
      "reading file: football/142.txt\n",
      "reading file: football/143.txt\n",
      "reading file: football/144.txt\n",
      "reading file: football/145.txt\n",
      "reading file: football/146.txt\n",
      "reading file: football/147.txt\n",
      "reading file: football/148.txt\n",
      "reading file: football/149.txt\n",
      "reading file: football/150.txt\n",
      "reading file: football/151.txt\n",
      "reading file: football/152.txt\n",
      "reading file: football/153.txt\n",
      "reading file: football/154.txt\n",
      "reading file: football/155.txt\n",
      "reading file: football/156.txt\n",
      "reading file: football/157.txt\n",
      "reading file: football/158.txt\n",
      "reading file: football/159.txt\n",
      "reading file: football/160.txt\n",
      "reading file: football/161.txt\n",
      "reading file: football/162.txt\n",
      "reading file: football/163.txt\n",
      "reading file: football/164.txt\n",
      "reading file: football/165.txt\n",
      "reading file: football/166.txt\n",
      "reading file: football/167.txt\n",
      "reading file: football/168.txt\n",
      "reading file: football/169.txt\n",
      "reading file: football/170.txt\n",
      "reading file: football/171.txt\n",
      "reading file: football/172.txt\n",
      "reading file: football/173.txt\n",
      "reading file: football/174.txt\n",
      "reading file: football/175.txt\n",
      "reading file: football/176.txt\n",
      "reading file: football/177.txt\n",
      "reading file: football/178.txt\n",
      "reading file: football/179.txt\n",
      "reading file: football/180.txt\n",
      "reading file: football/181.txt\n",
      "reading file: football/182.txt\n",
      "reading file: football/183.txt\n",
      "reading file: football/184.txt\n",
      "reading file: football/185.txt\n",
      "reading file: football/186.txt\n",
      "reading file: football/187.txt\n",
      "reading file: football/188.txt\n",
      "reading file: football/189.txt\n",
      "reading file: football/190.txt\n",
      "reading file: football/191.txt\n",
      "reading file: football/192.txt\n",
      "reading file: football/193.txt\n",
      "reading file: football/194.txt\n",
      "reading file: football/195.txt\n",
      "reading file: football/196.txt\n",
      "reading file: football/197.txt\n",
      "reading file: football/198.txt\n",
      "reading file: football/199.txt\n",
      "reading file: football/200.txt\n",
      "reading file: football/201.txt\n",
      "reading file: football/202.txt\n",
      "reading file: football/203.txt\n",
      "reading file: football/204.txt\n",
      "reading file: football/205.txt\n",
      "reading file: football/206.txt\n",
      "reading file: football/207.txt\n",
      "reading file: football/208.txt\n",
      "reading file: football/209.txt\n",
      "reading file: football/210.txt\n",
      "reading file: football/211.txt\n",
      "reading file: football/212.txt\n",
      "reading file: football/213.txt\n",
      "reading file: football/214.txt\n",
      "reading file: football/215.txt\n",
      "reading file: football/216.txt\n",
      "reading file: football/217.txt\n",
      "reading file: football/218.txt\n",
      "reading file: football/219.txt\n",
      "reading file: football/220.txt\n",
      "reading file: football/221.txt\n",
      "reading file: football/222.txt\n",
      "reading file: football/223.txt\n",
      "reading file: football/224.txt\n",
      "reading file: football/225.txt\n",
      "reading file: football/226.txt\n",
      "reading file: football/227.txt\n",
      "reading file: football/228.txt\n",
      "reading file: football/229.txt\n",
      "reading file: football/230.txt\n",
      "reading file: football/231.txt\n",
      "reading file: football/232.txt\n",
      "reading file: football/233.txt\n",
      "reading file: football/234.txt\n",
      "reading file: football/235.txt\n",
      "reading file: football/236.txt\n",
      "reading file: football/237.txt\n",
      "reading file: football/238.txt\n",
      "reading file: football/239.txt\n",
      "reading file: football/240.txt\n",
      "reading file: football/241.txt\n",
      "reading file: football/242.txt\n",
      "reading file: football/243.txt\n",
      "reading file: football/244.txt\n",
      "reading file: football/245.txt\n",
      "reading file: football/246.txt\n",
      "reading file: football/247.txt\n",
      "reading file: football/248.txt\n",
      "reading file: football/249.txt\n",
      "reading file: football/250.txt\n",
      "reading file: football/251.txt\n",
      "reading file: football/252.txt\n",
      "reading file: football/253.txt\n",
      "reading file: football/254.txt\n",
      "reading file: football/255.txt\n",
      "reading file: football/256.txt\n",
      "reading file: football/257.txt\n",
      "reading file: football/258.txt\n",
      "reading file: football/259.txt\n",
      "reading file: football/260.txt\n",
      "reading file: football/261.txt\n",
      "reading file: football/262.txt\n",
      "reading file: football/263.txt\n",
      "reading file: football/264.txt\n",
      "reading file: football/265.txt\n",
      "reading file: rugby/001.txt\n",
      "reading file: rugby/002.txt\n",
      "reading file: rugby/003.txt\n",
      "reading file: rugby/004.txt\n",
      "reading file: rugby/005.txt\n",
      "reading file: rugby/006.txt\n",
      "reading file: rugby/007.txt\n",
      "reading file: rugby/008.txt\n",
      "reading file: rugby/009.txt\n",
      "reading file: rugby/010.txt\n",
      "reading file: rugby/011.txt\n",
      "reading file: rugby/012.txt\n",
      "reading file: rugby/013.txt\n",
      "reading file: rugby/014.txt\n",
      "reading file: rugby/015.txt\n",
      "reading file: rugby/016.txt\n",
      "reading file: rugby/017.txt\n",
      "reading file: rugby/018.txt\n",
      "reading file: rugby/019.txt\n",
      "reading file: rugby/020.txt\n",
      "reading file: rugby/021.txt\n",
      "reading file: rugby/022.txt\n",
      "reading file: rugby/023.txt\n",
      "reading file: rugby/024.txt\n",
      "reading file: rugby/025.txt\n",
      "reading file: rugby/026.txt\n",
      "reading file: rugby/027.txt\n",
      "reading file: rugby/028.txt\n",
      "reading file: rugby/029.txt\n",
      "reading file: rugby/030.txt\n",
      "reading file: rugby/031.txt\n",
      "reading file: rugby/032.txt\n",
      "reading file: rugby/033.txt\n",
      "reading file: rugby/034.txt\n",
      "reading file: rugby/035.txt\n",
      "reading file: rugby/036.txt\n",
      "reading file: rugby/037.txt\n",
      "reading file: rugby/038.txt\n",
      "reading file: rugby/039.txt\n",
      "reading file: rugby/040.txt\n",
      "reading file: rugby/041.txt\n",
      "reading file: rugby/042.txt\n",
      "reading file: rugby/043.txt\n",
      "reading file: rugby/044.txt\n",
      "reading file: rugby/045.txt\n",
      "reading file: rugby/046.txt\n",
      "reading file: rugby/047.txt\n",
      "reading file: rugby/048.txt\n",
      "reading file: rugby/049.txt\n",
      "reading file: rugby/050.txt\n",
      "reading file: rugby/051.txt\n",
      "reading file: rugby/052.txt\n",
      "reading file: rugby/053.txt\n",
      "reading file: rugby/054.txt\n",
      "reading file: rugby/055.txt\n",
      "reading file: rugby/056.txt\n",
      "reading file: rugby/057.txt\n",
      "reading file: rugby/058.txt\n",
      "reading file: rugby/059.txt\n",
      "reading file: rugby/060.txt\n",
      "reading file: rugby/061.txt\n",
      "reading file: rugby/062.txt\n",
      "reading file: rugby/063.txt\n",
      "reading file: rugby/064.txt\n",
      "reading file: rugby/065.txt\n",
      "reading file: rugby/066.txt\n",
      "reading file: rugby/067.txt\n",
      "reading file: rugby/068.txt\n",
      "reading file: rugby/069.txt\n",
      "reading file: rugby/070.txt\n",
      "reading file: rugby/071.txt\n",
      "reading file: rugby/072.txt\n",
      "reading file: rugby/073.txt\n",
      "reading file: rugby/074.txt\n",
      "reading file: rugby/075.txt\n",
      "reading file: rugby/076.txt\n",
      "reading file: rugby/077.txt\n",
      "reading file: rugby/078.txt\n",
      "reading file: rugby/079.txt\n",
      "reading file: rugby/080.txt\n",
      "reading file: rugby/081.txt\n",
      "reading file: rugby/082.txt\n",
      "reading file: rugby/083.txt\n",
      "reading file: rugby/084.txt\n",
      "reading file: rugby/085.txt\n",
      "reading file: rugby/086.txt\n",
      "reading file: rugby/087.txt\n",
      "reading file: rugby/088.txt\n",
      "reading file: rugby/089.txt\n",
      "reading file: rugby/090.txt\n",
      "reading file: rugby/091.txt\n",
      "reading file: rugby/092.txt\n",
      "reading file: rugby/093.txt\n",
      "reading file: rugby/094.txt\n",
      "reading file: rugby/095.txt\n",
      "reading file: rugby/096.txt\n",
      "reading file: rugby/097.txt\n",
      "reading file: rugby/098.txt\n",
      "reading file: rugby/099.txt\n",
      "reading file: rugby/100.txt\n",
      "reading file: rugby/101.txt\n",
      "reading file: rugby/102.txt\n",
      "reading file: rugby/103.txt\n",
      "reading file: rugby/104.txt\n",
      "reading file: rugby/105.txt\n",
      "reading file: rugby/106.txt\n",
      "reading file: rugby/107.txt\n",
      "reading file: rugby/108.txt\n",
      "reading file: rugby/109.txt\n",
      "reading file: rugby/110.txt\n",
      "reading file: rugby/111.txt\n",
      "reading file: rugby/112.txt\n",
      "reading file: rugby/113.txt\n",
      "reading file: rugby/114.txt\n",
      "reading file: rugby/115.txt\n",
      "reading file: rugby/116.txt\n",
      "reading file: rugby/117.txt\n",
      "reading file: rugby/118.txt\n",
      "reading file: rugby/119.txt\n",
      "reading file: rugby/120.txt\n",
      "reading file: rugby/121.txt\n",
      "reading file: rugby/122.txt\n",
      "reading file: rugby/123.txt\n",
      "reading file: rugby/124.txt\n",
      "reading file: rugby/125.txt\n",
      "reading file: rugby/126.txt\n"
     ]
    },
    {
     "name": "stdout",
     "output_type": "stream",
     "text": [
      "reading file: rugby/127.txt\n",
      "reading file: rugby/128.txt\n",
      "reading file: rugby/129.txt\n",
      "reading file: rugby/130.txt\n",
      "reading file: rugby/131.txt\n",
      "reading file: rugby/132.txt\n",
      "reading file: rugby/133.txt\n",
      "reading file: rugby/134.txt\n",
      "reading file: rugby/135.txt\n",
      "reading file: rugby/136.txt\n",
      "reading file: rugby/137.txt\n",
      "reading file: rugby/138.txt\n",
      "reading file: rugby/139.txt\n",
      "reading file: rugby/140.txt\n",
      "reading file: rugby/141.txt\n",
      "reading file: rugby/142.txt\n",
      "reading file: rugby/143.txt\n",
      "reading file: rugby/144.txt\n",
      "reading file: rugby/145.txt\n",
      "reading file: rugby/146.txt\n",
      "reading file: rugby/147.txt\n",
      "reading file: tennis/001.txt\n",
      "reading file: tennis/002.txt\n",
      "reading file: tennis/003.txt\n",
      "reading file: tennis/004.txt\n",
      "reading file: tennis/005.txt\n",
      "reading file: tennis/006.txt\n",
      "reading file: tennis/007.txt\n",
      "reading file: tennis/008.txt\n",
      "reading file: tennis/009.txt\n",
      "reading file: tennis/010.txt\n",
      "reading file: tennis/011.txt\n",
      "reading file: tennis/012.txt\n",
      "reading file: tennis/013.txt\n",
      "reading file: tennis/014.txt\n",
      "reading file: tennis/015.txt\n",
      "reading file: tennis/016.txt\n",
      "reading file: tennis/017.txt\n",
      "reading file: tennis/018.txt\n",
      "reading file: tennis/019.txt\n",
      "reading file: tennis/020.txt\n",
      "reading file: tennis/021.txt\n",
      "reading file: tennis/022.txt\n",
      "reading file: tennis/023.txt\n",
      "reading file: tennis/024.txt\n",
      "reading file: tennis/025.txt\n",
      "reading file: tennis/026.txt\n",
      "reading file: tennis/027.txt\n",
      "reading file: tennis/028.txt\n",
      "reading file: tennis/029.txt\n",
      "reading file: tennis/030.txt\n",
      "reading file: tennis/031.txt\n",
      "reading file: tennis/032.txt\n",
      "reading file: tennis/033.txt\n",
      "reading file: tennis/034.txt\n",
      "reading file: tennis/035.txt\n",
      "reading file: tennis/036.txt\n",
      "reading file: tennis/037.txt\n",
      "reading file: tennis/038.txt\n",
      "reading file: tennis/039.txt\n",
      "reading file: tennis/040.txt\n",
      "reading file: tennis/041.txt\n",
      "reading file: tennis/042.txt\n",
      "reading file: tennis/043.txt\n",
      "reading file: tennis/044.txt\n",
      "reading file: tennis/045.txt\n",
      "reading file: tennis/046.txt\n",
      "reading file: tennis/047.txt\n",
      "reading file: tennis/048.txt\n",
      "reading file: tennis/049.txt\n",
      "reading file: tennis/050.txt\n",
      "reading file: tennis/051.txt\n",
      "reading file: tennis/052.txt\n",
      "reading file: tennis/053.txt\n",
      "reading file: tennis/054.txt\n",
      "reading file: tennis/055.txt\n",
      "reading file: tennis/056.txt\n",
      "reading file: tennis/057.txt\n",
      "reading file: tennis/058.txt\n",
      "reading file: tennis/059.txt\n",
      "reading file: tennis/060.txt\n",
      "reading file: tennis/061.txt\n",
      "reading file: tennis/062.txt\n",
      "reading file: tennis/063.txt\n",
      "reading file: tennis/064.txt\n",
      "reading file: tennis/065.txt\n",
      "reading file: tennis/066.txt\n",
      "reading file: tennis/067.txt\n",
      "reading file: tennis/068.txt\n",
      "reading file: tennis/069.txt\n",
      "reading file: tennis/070.txt\n",
      "reading file: tennis/071.txt\n",
      "reading file: tennis/072.txt\n",
      "reading file: tennis/073.txt\n",
      "reading file: tennis/074.txt\n",
      "reading file: tennis/075.txt\n",
      "reading file: tennis/076.txt\n",
      "reading file: tennis/077.txt\n",
      "reading file: tennis/078.txt\n",
      "reading file: tennis/079.txt\n",
      "reading file: tennis/080.txt\n",
      "reading file: tennis/081.txt\n",
      "reading file: tennis/082.txt\n",
      "reading file: tennis/083.txt\n",
      "reading file: tennis/084.txt\n",
      "reading file: tennis/085.txt\n",
      "reading file: tennis/086.txt\n",
      "reading file: tennis/087.txt\n",
      "reading file: tennis/088.txt\n",
      "reading file: tennis/089.txt\n",
      "reading file: tennis/090.txt\n",
      "reading file: tennis/091.txt\n",
      "reading file: tennis/092.txt\n",
      "reading file: tennis/093.txt\n",
      "reading file: tennis/094.txt\n",
      "reading file: tennis/095.txt\n",
      "reading file: tennis/096.txt\n",
      "reading file: tennis/097.txt\n",
      "reading file: tennis/098.txt\n",
      "reading file: tennis/099.txt\n",
      "reading file: tennis/100.txt\n",
      "writing csv flie ...\n"
     ]
    }
   ],
   "source": [
    "# read all raw text files, save them as a DataFrame and write into a .csv\n",
    "title = []\n",
    "content = []\n",
    "category = []\n",
    "category_id = []\n",
    "filename = []\n",
    "\n",
    "for i, folder in enumerate(folders):\n",
    "    files = os.listdir(folder)\n",
    "    \n",
    "    for text_file in files:\n",
    "        file_path = folder + \"/\" + text_file\n",
    "        \n",
    "        print(\"reading file:\", file_path)\n",
    "        with open(file_path) as f:\n",
    "            data = f.readlines()\n",
    "            \n",
    "        title.append(data[0].strip('\\n'))\n",
    "        \n",
    "        data = ' '.join(data)\n",
    "        content.append(data)\n",
    "        category.append(folder)\n",
    "        category_id.append(i)\n",
    "        \n",
    "    filename += files\n",
    "\n",
    "df = pd.DataFrame(data=content, columns=['content'])\n",
    "df['category'] = category\n",
    "df['category_id'] = category_id\n",
    "df['title'] = title\n",
    "df['filename'] = filename\n",
    "df = df[['category', 'filename', 'title', 'content', 'category_id']]\n",
    "\n",
    "print('writing csv flie ...')\n",
    "# df.to_csv('dataset.csv', index=False)"
   ]
  },
  {
   "cell_type": "code",
   "execution_count": 4,
   "metadata": {},
   "outputs": [
    {
     "data": {
      "text/html": [
       "<div>\n",
       "<table border=\"1\" class=\"dataframe\">\n",
       "  <thead>\n",
       "    <tr style=\"text-align: right;\">\n",
       "      <th></th>\n",
       "      <th>category</th>\n",
       "      <th>filename</th>\n",
       "      <th>title</th>\n",
       "      <th>content</th>\n",
       "      <th>category_id</th>\n",
       "    </tr>\n",
       "  </thead>\n",
       "  <tbody>\n",
       "    <tr>\n",
       "      <th>196</th>\n",
       "      <td>cricket</td>\n",
       "      <td>096.txt</td>\n",
       "      <td>England victory tainted by history</td>\n",
       "      <td>England victory tainted by history\\n \\n As Eng...</td>\n",
       "      <td>1</td>\n",
       "    </tr>\n",
       "    <tr>\n",
       "      <th>187</th>\n",
       "      <td>cricket</td>\n",
       "      <td>087.txt</td>\n",
       "      <td>Australia complete sweep</td>\n",
       "      <td>Australia complete sweep\\n \\n Third Test, Sydn...</td>\n",
       "      <td>1</td>\n",
       "    </tr>\n",
       "    <tr>\n",
       "      <th>14</th>\n",
       "      <td>athletics</td>\n",
       "      <td>015.txt</td>\n",
       "      <td>UK Athletics agrees new kit deal</td>\n",
       "      <td>UK Athletics agrees new kit deal\\n \\n UK Athle...</td>\n",
       "      <td>0</td>\n",
       "    </tr>\n",
       "    <tr>\n",
       "      <th>31</th>\n",
       "      <td>athletics</td>\n",
       "      <td>032.txt</td>\n",
       "      <td>Bekele sets sights on world mark</td>\n",
       "      <td>Bekele sets sights on world mark\\n \\n Olympic ...</td>\n",
       "      <td>0</td>\n",
       "    </tr>\n",
       "    <tr>\n",
       "      <th>545</th>\n",
       "      <td>rugby</td>\n",
       "      <td>056.txt</td>\n",
       "      <td>Captains lining up for Aid match</td>\n",
       "      <td>Captains lining up for Aid match\\n \\n Ireland'...</td>\n",
       "      <td>3</td>\n",
       "    </tr>\n",
       "  </tbody>\n",
       "</table>\n",
       "</div>"
      ],
      "text/plain": [
       "      category filename                               title  \\\n",
       "196    cricket  096.txt  England victory tainted by history   \n",
       "187    cricket  087.txt            Australia complete sweep   \n",
       "14   athletics  015.txt    UK Athletics agrees new kit deal   \n",
       "31   athletics  032.txt    Bekele sets sights on world mark   \n",
       "545      rugby  056.txt    Captains lining up for Aid match   \n",
       "\n",
       "                                               content  category_id  \n",
       "196  England victory tainted by history\\n \\n As Eng...            1  \n",
       "187  Australia complete sweep\\n \\n Third Test, Sydn...            1  \n",
       "14   UK Athletics agrees new kit deal\\n \\n UK Athle...            0  \n",
       "31   Bekele sets sights on world mark\\n \\n Olympic ...            0  \n",
       "545  Captains lining up for Aid match\\n \\n Ireland'...            3  "
      ]
     },
     "execution_count": 4,
     "metadata": {},
     "output_type": "execute_result"
    }
   ],
   "source": [
    "# check the resulting dataframe\n",
    "df.sample(5, random_state=0)"
   ]
  },
  {
   "cell_type": "code",
   "execution_count": 5,
   "metadata": {},
   "outputs": [
    {
     "data": {
      "image/png": "[encoded data removed]",
      "text/plain": [
       "<matplotlib.figure.Figure at 0x1ea347992e8>"
      ]
     },
     "metadata": {},
     "output_type": "display_data"
    }
   ],
   "source": [
    "# check the class distribution\n",
    "df.groupby('category')['title'].count().plot.bar(ylim=0)\n",
    "plt.title('Distribution of different class');"
   ]
  },
  {
   "cell_type": "markdown",
   "metadata": {},
   "source": [
    "The distribution of different categories are not imbalanced. If one category occupy a great portion, say 90%, then I think the dataset is imbalanced, which does not apply to current situation, so no worries."
   ]
  },
  {
   "cell_type": "markdown",
   "metadata": {},
   "source": [
    "### 2) Preprocess the news content\n",
    "Basically remove non-words and word stemming.\n",
    "\n",
    "Non-words removal means remove the numbers, alphabets, punctuations, symbols."
   ]
  },
  {
   "cell_type": "code",
   "execution_count": 6,
   "metadata": {
    "collapsed": true
   },
   "outputs": [],
   "source": [
    "# function for remove non-words\n",
    "def remove_nonwords(string):\n",
    "    string = re.sub(r\"\\'s\", \"\", string)\n",
    "    string = re.sub(r\"\\'ve\", \"\", string)\n",
    "    string = re.sub(r\"n\\'t\", \"\", string)\n",
    "    string = re.sub(r\"\\'re\", \"\", string)\n",
    "    string = re.sub(r\"\\'d\", \"\", string)\n",
    "    string = re.sub(r\"\\'ll\", \"\", string)\n",
    "    string = re.sub(r\",\", \"\", string)\n",
    "    string = re.sub(r\"!\", \"\", string)\n",
    "    string = re.sub(r\"\\(\", \"\", string)\n",
    "    string = re.sub(r\"\\)\", \"\", string)\n",
    "    string = re.sub(r\"\\?\", \"\", string)\n",
    "    string = re.sub(r\"'\", \"\", string)\n",
    "    string = re.sub(r\"[^A-Za-z0-9(),!?\\'\\`]\", \" \", string)\n",
    "    string = re.sub(r\"[0-9]\\w+|[0-9]\",\"\", string)\n",
    "    string = re.sub(r\"\\s{2,}\", \" \", string)\n",
    "    return string.strip().lower()"
   ]
  },
  {
   "cell_type": "markdown",
   "metadata": {},
   "source": [
    "Word stemming means words are reduced to their stemmed form. For example, “discount”, “discounts”, “discounted” and “discounting” are all replaced with “discount”. **SnowballStemmer** of **nltk** library will be used for stemming purpose."
   ]
  },
  {
   "cell_type": "code",
   "execution_count": 7,
   "metadata": {
    "collapsed": true
   },
   "outputs": [],
   "source": [
    "# apply non-word removal and word stemming on the original news content\n",
    "stemmer = SnowballStemmer('english')\n",
    "words = stopwords.words('english')\n",
    "df['cleaned'] = df['content'].apply(lambda x: ' '.join([stemmer.stem(i) for i in remove_nonwords(x).split() if i not in words]))"
   ]
  },
  {
   "cell_type": "markdown",
   "metadata": {},
   "source": [
    "## 2. Machine learning:"
   ]
  },
  {
   "cell_type": "markdown",
   "metadata": {},
   "source": [
    "### 1) Create training and test sets"
   ]
  },
  {
   "cell_type": "code",
   "execution_count": 8,
   "metadata": {
    "collapsed": true
   },
   "outputs": [],
   "source": [
    "# 80% of data for training, 20% for testing\n",
    "X_train, X_test, y_train, y_test = train_test_split(df['cleaned'], df['category_id'], test_size=0.2, random_state=0)"
   ]
  },
  {
   "cell_type": "markdown",
   "metadata": {},
   "source": [
    "### 2) Convert news article to vector\n",
    "Each news article must be transformed to a feature vector in order to be processed by a ML model. One common approach is bag-of-word, which consider the frequency of words presence in the articles and ignore the order in which the words occur."
   ]
  },
  {
   "cell_type": "markdown",
   "metadata": {},
   "source": [
    "**TfidfVectorizer** of **scikit-learn** library will be used to vectorize each news text. Usually, **TfidfVectorizer** take all unique words in the whole dataset(which having many articles) except stopwords as features when building a vocabulary list. A unique word is a feature. Stopwords like 'the', 'is', 'are' occur in every news article and they can't be used as signitures to differentiate different categories, so stopwords won't be used as features. "
   ]
  },
  {
   "cell_type": "markdown",
   "metadata": {},
   "source": [
    "The **TfidfVectorizer** actually perform two things: **CountVectorizer** and **TfidTransformer**. The **CountVectorizer** count the number of presence for every single word, this calculate the word feaquency. Then the **TfidTransformer** give each feature a weighting as it takes the document frequency of each feature into account. As a result, words like 'they', 'have', 'he', 'she' appearing in many documents will have a lower weight because they are quite common and not related to a certain category. Words like 'singer', 'online', 'government' appearing in less articles will have a higher weight becaue they are more relevant to the category of news. So **TfidfVectorizer** calculate a value for each feature by taking both word frequency and document fequency into consideration."
   ]
  },
  {
   "cell_type": "markdown",
   "metadata": {},
   "source": [
    "Important parameters of **TfidfVectorizer**:\n",
    "\n",
    "**sublinear_tf**: often set to True to take the logarithmic form for frequency.\n",
    "\n",
    "**min_df**: set a threshold, so a unique word won't be used as a feature if it's document feaquency lower than this threshold. (will be turned in model training)\n",
    "\n",
    "**ngram_range**: setting this parameter enable n-consecutive words to be considered as one feature in addition to the rule of one word as one feature. For example, if ngram_range=(1, 2), not only 'tennis' and 'player' but also 'tennis player' are features. (will be turned in model training)\n",
    "\n",
    "**stop_words**: set to be 'english' according to the language of current data."
   ]
  },
  {
   "cell_type": "code",
   "execution_count": 9,
   "metadata": {},
   "outputs": [
    {
     "data": {
      "text/plain": [
       "(589, 8073)"
      ]
     },
     "execution_count": 9,
     "metadata": {},
     "output_type": "execute_result"
    }
   ],
   "source": [
    "# extracting features from the training data using TfidfVectorizer\n",
    "TfidVect = TfidfVectorizer(sublinear_tf=True, min_df=1, ngram_range=(1, 1), stop_words='english')\n",
    "X_train_vect = TfidVect.fit_transform(X_train).toarray()\n",
    "X_train_vect.shape"
   ]
  },
  {
   "cell_type": "markdown",
   "metadata": {},
   "source": [
    "There are 589 news articles in the training set. Each news article is now represented by a 8073-length feature vector."
   ]
  },
  {
   "cell_type": "markdown",
   "metadata": {},
   "source": [
    "### 3) PCA \n",
    "Plot the data in a 2D plane is a good way to visualize how seperate between different classes. Since the dimension of Tfidfvectors is very high, PCA is used to project the data into a 2D plane whose two coordinate axes are the first and second principle components."
   ]
  },
  {
   "cell_type": "code",
   "execution_count": 10,
   "metadata": {},
   "outputs": [
    {
     "name": "stdout",
     "output_type": "stream",
     "text": [
      "(589, 8073) (589, 2)\n"
     ]
    }
   ],
   "source": [
    "# apply PCA transformation\n",
    "pca = PCA(n_components = 2).fit(X_train_vect)\n",
    "X_pca = pca.transform(X_train_vect)\n",
    "print(X_train_vect.shape, X_pca.shape)"
   ]
  },
  {
   "cell_type": "markdown",
   "metadata": {},
   "source": [
    "After PCA, the dimension of the data is reduced from 589 to 2. Please note that this PCA is used only for data visualization but not classification, so we create X_train_vect and keep X_train unchanged."
   ]
  },
  {
   "cell_type": "code",
   "execution_count": 11,
   "metadata": {
    "scrolled": false
   },
   "outputs": [
    {
     "data": {
      "image/png": "[encoded data removed]",
      "text/plain": [
       "<matplotlib.figure.Figure at 0x1ea34e82e48>"
      ]
     },
     "metadata": {},
     "output_type": "display_data"
    }
   ],
   "source": [
    "# plot the news dataset in 2D\n",
    "f, ax = plt.subplots(figsize=(12, 9))\n",
    "colors = ['pink', 'green', 'midnightblue', 'orange', 'darkgrey']\n",
    "for category_id, category in enumerate(folders):\n",
    "    points = X_pca[[y_train == category_id]]\n",
    "    plt.scatter(points[:, 0], points[:, 1], s=5, c=colors[category_id], label=category)\n",
    "    \n",
    "plt.xlabel('First principle component')\n",
    "plt.ylabel('Second principle component')\n",
    "plt.title('News articles Dataset PCA (n_conponent=2)')    \n",
    "plt.legend();"
   ]
  },
  {
   "cell_type": "markdown",
   "metadata": {},
   "source": [
    "It appear that this dataset is linearly separable. So I expect a linear classifier will works well."
   ]
  },
  {
   "cell_type": "markdown",
   "metadata": {},
   "source": [
    "### 4) Build a predictive model \n",
    "I build a pipeline which include newsVectorization, featureSelection, and classification all in one. First, the news raw texts will be converted to Tfidfvectors. Second a number of best features will be selected by **SelectKBest**. Third, the selected features will be used in the classification."
   ]
  },
  {
   "cell_type": "markdown",
   "metadata": {},
   "source": [
    "The best k features are selected using chi-square test. The chi-squared stats measure the dependence between each non-negative feature and the categories. Higher chi-squared stats value indicate higher correlation between a certain feature and a certain category. So features which are independent of the category will be filtered out. Parameter **k** will be turned in model training."
   ]
  },
  {
   "cell_type": "markdown",
   "metadata": {},
   "source": [
    "Support Vector Machine (SVM) with linear kernel will be used in classification. Linear SVM make an assumption that the training data is linearly saparable, this assumption is in line with the observation in the previous PCA plot. In addition, linear SVM aim at searching for maximum amount of margin between classes. \n",
    "\n",
    "Important parameters of Linear SVM:\n",
    "\n",
    "**C**: control how much regularization. Smaller C, more regularization, encourage the classifier to find the large margin decision boundary, even this margin lead to more training samples mis-classify.  Large C,less regularization,classify the training data as good as possible, even use smaller margin decision boundary. (will be turned in the model training)\n",
    "\n",
    "**penalty**: 'l1' use Lasso regularization, 'l2' use Ridge regularization. I test this parameter outside this script and find 'l2' perform better.\n",
    "\n",
    "**dual**: Prefer dual=False when n_samples > n_features."
   ]
  },
  {
   "cell_type": "code",
   "execution_count": 12,
   "metadata": {
    "collapsed": true
   },
   "outputs": [],
   "source": [
    "# create a pipeline\n",
    "pipeline = Pipeline([\n",
    "    ('vectorizer', TfidfVectorizer(sublinear_tf=True, stop_words='english')), \n",
    "    ('featSelect', SelectKBest(chi2)), \n",
    "    ('classifier', LinearSVC(penalty='l2', max_iter=1000, dual=False))\n",
    "])"
   ]
  },
  {
   "cell_type": "code",
   "execution_count": 13,
   "metadata": {},
   "outputs": [
    {
     "data": {
      "text/plain": [
       "0.79213918062539057"
      ]
     },
     "execution_count": 13,
     "metadata": {},
     "output_type": "execute_result"
    }
   ],
   "source": [
    "# calculate the cross-validation accuracy of a baseline classifier\n",
    "scores = cross_val_score(pipeline, X_train, y_train, scoring = 'accuracy', cv=10)\n",
    "scores.mean()"
   ]
  },
  {
   "cell_type": "markdown",
   "metadata": {},
   "source": [
    "Accuracy score of the baseline classifier is 0.792, and the default k=10 (e.g. using 10 selected features) leads to a good score."
   ]
  },
  {
   "cell_type": "code",
   "execution_count": 14,
   "metadata": {
    "collapsed": true
   },
   "outputs": [],
   "source": [
    "# parameters to be turned for model improvement\n",
    "grid_values = {\n",
    "    'vectorizer__min_df': [1, 5],\n",
    "    'vectorizer__ngram_range': [(1, 1), (1, 2)],\n",
    "    'featSelect__k': [50, 200],\n",
    "    'classifier__C': [1.0, 0.8],\n",
    "}"
   ]
  },
  {
   "cell_type": "code",
   "execution_count": 15,
   "metadata": {},
   "outputs": [
    {
     "data": {
      "text/plain": [
       "GridSearchCV(cv=10, error_score='raise',\n",
       "       estimator=Pipeline(memory=None,\n",
       "     steps=[('vectorizer', TfidfVectorizer(analyzer='word', binary=False, decode_error='strict',\n",
       "        dtype=<class 'numpy.int64'>, encoding='utf-8', input='content',\n",
       "        lowercase=True, max_df=1.0, max_features=None, min_df=1,\n",
       "        ngram_range=(1, 1), norm='l2', preprocessor=None, smooth_idf=Tr...ax_iter=1000,\n",
       "     multi_class='ovr', penalty='l2', random_state=None, tol=0.0001,\n",
       "     verbose=0))]),\n",
       "       fit_params=None, iid=True, n_jobs=1,\n",
       "       param_grid={'vectorizer__min_df': [1, 5], 'vectorizer__ngram_range': [(1, 1), (1, 2)], 'featSelect__k': [50, 200], 'classifier__C': [1.0, 0.8]},\n",
       "       pre_dispatch='2*n_jobs', refit=True, return_train_score='warn',\n",
       "       scoring='accuracy', verbose=0)"
      ]
     },
     "execution_count": 15,
     "metadata": {},
     "output_type": "execute_result"
    }
   ],
   "source": [
    "# Search for optimal set of parameters, 10-fold cross-validation \n",
    "grid_search = GridSearchCV(pipeline, param_grid = grid_values, scoring = 'accuracy', cv=10)\n",
    "\n",
    "# train the model on training data\n",
    "grid_search.fit(X_train, y_train)"
   ]
  },
  {
   "cell_type": "code",
   "execution_count": 16,
   "metadata": {},
   "outputs": [
    {
     "name": "stdout",
     "output_type": "stream",
     "text": [
      "0.989813242784\n",
      "{'classifier__C': 1.0, 'featSelect__k': 200, 'vectorizer__min_df': 5, 'vectorizer__ngram_range': (1, 1)}\n"
     ]
    }
   ],
   "source": [
    "# print the highest accuracy and the corresponding parameters\n",
    "print(grid_search.best_score_)\n",
    "print(grid_search.best_params_)"
   ]
  },
  {
   "cell_type": "code",
   "execution_count": 17,
   "metadata": {
    "collapsed": true
   },
   "outputs": [],
   "source": [
    "# build a pipeline with optimized parameters\n",
    "pipeline_opt = Pipeline([\n",
    "    ('vectorizer', TfidfVectorizer(sublinear_tf=True, min_df=5, ngram_range=(1, 1), stop_words='english')), \n",
    "    ('featSelect', SelectKBest(chi2, k=200)), \n",
    "    ('classifier', LinearSVC(C=1.0, penalty='l2', max_iter=1000, dual=False))\n",
    "])"
   ]
  },
  {
   "cell_type": "code",
   "execution_count": 18,
   "metadata": {
    "collapsed": true
   },
   "outputs": [],
   "source": [
    "# calculate the desicion boundary \n",
    "model = pipeline_opt.fit(X_train, y_train)"
   ]
  },
  {
   "cell_type": "code",
   "execution_count": 19,
   "metadata": {
    "collapsed": true
   },
   "outputs": [],
   "source": [
    "# main components of the pipeline\n",
    "vectorizer = model.named_steps['vectorizer']\n",
    "chi = model.named_steps['featSelect']\n",
    "clf = model.named_steps['classifier']"
   ]
  },
  {
   "cell_type": "code",
   "execution_count": 20,
   "metadata": {
    "scrolled": true
   },
   "outputs": [
    {
     "data": {
      "text/plain": [
       "array(['aaa', 'africa', 'agassi', 'akhtar', 'american', 'arsenal', 'ash',\n",
       "       'athen', 'athlet', 'australia', 'australian', 'balco', 'ban',\n",
       "       'bangladesh', 'bat', 'bath', 'batsman', 'batsmen', 'beat', 'bekel',\n",
       "       'belgian', 'birmingham', 'boje', 'boss', 'boundari', 'bowl',\n",
       "       'bowler', 'britain', 'british', 'broke', 'bronz', 'capt', 'centuri',\n",
       "       'charli', 'chelsea', 'chepkemei', 'clijster', 'club', 'collin',\n",
       "       'commonwealth', 'compet', 'cont', 'counti', 'cricket', 'dallaglio',\n",
       "       'davenport', 'deliveri', 'dementieva', 'dent', 'dope', 'drug',\n",
       "       'dubai', 'elena', 'england', 'european', 'event', 'fa', 'feder',\n",
       "       'flanker', 'fli', 'flintoff', 'footbal', 'franc', 'franci',\n",
       "       'garden', 'gb', 'gile', 'goal', 'gold', 'grand', 'greek',\n",
       "       'hantuchova', 'harmison', 'henman', 'henson', 'hewitt', 'hodgson',\n",
       "       'holm', 'hopman', 'hurdl', 'iaaf', 'icc', 'indi', 'india', 'indoor',\n",
       "       'inning', 'ireland', 'isinbayeva', 'itali', 'ivan', 'johansson',\n",
       "       'jonni', 'jump', 'kalli', 'katerina', 'kelli', 'kenteri', 'khan',\n",
       "       'kluft', 'kosta', 'kuznetsova', 'lanka', 'lankan', 'laport',\n",
       "       'leagu', 'leicest', 'lewsey', 'lion', 'liverpool', 'ljubic',\n",
       "       'lleyton', 'lock', 'manag', 'manchest', 'marathon', 'mcilroy',\n",
       "       'medal', 'medallist', 'melzer', 'mike', 'mohammad', 'molik',\n",
       "       'mourinho', 'moya', 'nadal', 'nation', 'ntini', 'number',\n",
       "       'odriscol', 'olymp', 'open', 'pakistan', 'paula', 'pollock', 'pont',\n",
       "       'prix', 'prop', 'race', 'radcliff', 'relay', 'robinson', 'roddick',\n",
       "       'roger', 'rounder', 'ruddock', 'rugbi', 'rusedski', 'russian',\n",
       "       'safin', 'saracen', 'scotland', 'scrum', 'seed', 'serena', 'seri',\n",
       "       'serv', 'set', 'sharapova', 'shoaib', 'silver', 'singh', 'slam',\n",
       "       'south', 'spin', 'spinner', 'sprint', 'sprinter', 'sri', 'steroid',\n",
       "       'strauss', 'striker', 'stump', 'swiss', 'tenni', 'test', 'thanou',\n",
       "       'tour', 'tournament', 'track', 'trescothick', 'trial', 'twickenham',\n",
       "       'ul', 'unit', 'vaughan', 'venus', 'wale', 'wasp', 'wenger',\n",
       "       'wicket', 'wilkinson', 'wimbledon', 'wing', 'wkt', 'woodward',\n",
       "       'wta', 'xi', 'yell', 'zealand', 'zimbabw'],\n",
       "      dtype='<U12')"
      ]
     },
     "execution_count": 20,
     "metadata": {},
     "output_type": "execute_result"
    }
   ],
   "source": [
    "# list the 500 best features(keywords) selected using chi-squared test\n",
    "feature_names = vectorizer.get_feature_names()\n",
    "feature_names = [feature_names[i] for i in chi.get_support(indices=True)]  \n",
    "feature_names = np.asarray(feature_names)\n",
    "feature_names"
   ]
  },
  {
   "cell_type": "code",
   "execution_count": 21,
   "metadata": {},
   "outputs": [
    {
     "name": "stdout",
     "output_type": "stream",
     "text": [
      "Top 10 keywords per class:\n",
      "athletics: medal, radcliff, sprinter, mcilroy, marathon, european, indoor, race, athlet, olymp\n",
      "cricket: vaughan, australia, pakistan, wkt, test, pont, icc, seri, wicket, cricket\n",
      "football: boss, striker, fa, arsenal, unit, manag, club, chelsea, goal, footbal\n",
      "rugby: wing, itali, ireland, wasp, scotland, flanker, nation, wale, saracen, rugbi\n",
      "tennis: henman, rusedski, wimbledon, nadal, number, australian, open, roddick, seed, tenni\n"
     ]
    }
   ],
   "source": [
    "# List top 10 keywords for eahc categories\n",
    "target_names = folders\n",
    "print('Top 10 keywords per class:')\n",
    "for i, label in enumerate(target_names):\n",
    "    top10 = np.argsort(clf.coef_[i])[-10:]\n",
    "    print(label + ': ' + ', '.join(feature_names[top10]))"
   ]
  },
  {
   "cell_type": "markdown",
   "metadata": {},
   "source": [
    "These top keywords used by the model for prediction are quite sensible."
   ]
  },
  {
   "cell_type": "markdown",
   "metadata": {},
   "source": [
    "If an unseen news article have similar characteristics with the previous training data, the model should correctly predict the category for this unseen article. However, if the unseen article is very different from the previous training set, the model may not be able to provide an accurate prediction. Therefore, the model should continuely be trained with new unseen data so as to adapt it's parameters overtime and continue to prove useful prediction. Use online learning."
   ]
  },
  {
   "cell_type": "markdown",
   "metadata": {},
   "source": [
    "## 3. Evaluation"
   ]
  },
  {
   "cell_type": "code",
   "execution_count": 22,
   "metadata": {},
   "outputs": [
    {
     "name": "stdout",
     "output_type": "stream",
     "text": [
      "accuracy score_Training: 0.998302207131\n",
      "accuracy score_Test: 0.972972972973\n"
     ]
    }
   ],
   "source": [
    "# calculate accuracy\n",
    "print('accuracy score_Training: ' + str(model.score(X_train, y_train)))\n",
    "print('accuracy score_Test: ' + str(model.score(X_test, y_test)))"
   ]
  },
  {
   "cell_type": "markdown",
   "metadata": {},
   "source": [
    "The model perform quite well with prediction accuracy equals to 0.973 ."
   ]
  },
  {
   "cell_type": "code",
   "execution_count": 23,
   "metadata": {
    "collapsed": true
   },
   "outputs": [],
   "source": [
    "# calculate prediction for test set\n",
    "y_predict_test = model.predict(X_test)"
   ]
  },
  {
   "cell_type": "code",
   "execution_count": 24,
   "metadata": {},
   "outputs": [
    {
     "data": {
      "image/png": "[encoded data removed]",
      "text/plain": [
       "<matplotlib.figure.Figure at 0x1ea386ba3c8>"
      ]
     },
     "metadata": {},
     "output_type": "display_data"
    }
   ],
   "source": [
    "# calculate confusion matrix\n",
    "f, ax = plt.subplots(figsize=(8, 5))\n",
    "conf_mat = confusion_matrix(y_test, y_predict_test)\n",
    "sns.heatmap(conf_mat, annot=True, fmt='d', xticklabels=folders, yticklabels=folders)           \n",
    "plt.ylabel('True label')\n",
    "plt.xlabel('Predicted label')\n",
    "plt.title('SVM Linear Kernel \\nAccuracy:{0:.3f}'.format(accuracy_score(y_test, y_predict_test)));"
   ]
  },
  {
   "cell_type": "markdown",
   "metadata": {},
   "source": [
    "### Make prediction for today's news\n",
    "Unseen_news_3 is from: https://www.bbc.co.uk/sport/football/45543033\n",
    "\n",
    "Unseen_news_4 is from: https://www.bbc.co.uk/sport/rugby-union/45489775"
   ]
  },
  {
   "cell_type": "code",
   "execution_count": 29,
   "metadata": {
    "collapsed": true
   },
   "outputs": [],
   "source": [
    "# collect and preprocess data\n",
    "file_path = 'Unseen_news_4.txt'\n",
    "with open(file_path) as f:\n",
    "    data = f.readlines()   \n",
    "    \n",
    "X_forPredict_orig = ' '.join(data)\n",
    "X_forPredict_cleaned = ' '.join([stemmer.stem(i) for i in remove_nonwords(X_forPredict_orig).split() if i not in words])"
   ]
  },
  {
   "cell_type": "code",
   "execution_count": 30,
   "metadata": {},
   "outputs": [
    {
     "data": {
      "text/plain": [
       "\"Premiership: Wasps 41-35 Leicester Tigers\\n \\n Wasps resisted a courageous second-half display by 14-man Leicester Tigers to earn a narrow victory in a captivating eight-try game at the Ricoh Arena.\\n \\n Scores by Juan de Jongh and Josh Bassett saw Wasps race 14-0 ahead.\\n \\n Tigers hit back to trail 25-18, but the controversial dismissal of Will Spencer for a dangerous tackle turned the game heavily in Wasps' favour by the break.\\n \\n Johnny May's second try helped put Tigers ahead but three Lima Sopoaga kicks sealed victory for the hosts.\\n \\n Sopoaga's reliability with the boot ultimately proved the difference as the sides each picked up a bonus point for registering four tries in a thrilling, open, contest enriched by some dubious defending.\\n \\n Relive Wasps v Leicester as it happened\\n But Spencer's red card, so soon after the Tigers got back to within seven points of their hosts, was a telling moment.\\n \\n The Leicester second-rower was adjudged to have gone high into a challenge on Wasps hooker Tommy Taylor, and made contact with the head with his shoulder.\\n \\n De Jongh had gone over for the opening score after Dan Robson took advantage of a fortunate break to run deep from his own half and Bassett collected Elliot Daly's fine kick to score in the corner.\\n \\n Nathan Hughes bundled over after a Gareth Owen knock-on for a third home score in between George Ford setting up tries for May, with an astute kick, and Telusa Veainu.\\n \\n The Tigers pack started to rattle Wasps after the interval, resulting in Sione Kalamafoni's close-range effort.\\n \\n And, after a dazzling de Jongh try, another May and Ford combination saw the England wing grab his second try to put Tigers ahead at 35-32.\\n \\n However, Sopoaga kept his nerve from three consecutive kicks against a jaded visiting side, to close out a second win in three matches for Wasps.\\n\""
      ]
     },
     "execution_count": 30,
     "metadata": {},
     "output_type": "execute_result"
    }
   ],
   "source": [
    "X_forPredict_orig"
   ]
  },
  {
   "cell_type": "code",
   "execution_count": 31,
   "metadata": {},
   "outputs": [
    {
     "data": {
      "text/plain": [
       "'premiership wasp leicest tiger wasp resist courag second half display man leicest tiger earn narrow victori captiv eight tri game ricoh arena score juan de jongh josh bassett saw wasp race ahead tiger hit back trail controversi dismiss spencer danger tackl turn game heavili wasp favour break johnni may second tri help put tiger ahead three lima sopoaga kick seal victori host sopoaga reliabl boot ultim prove differ side pick bonus point regist four tri thrill open contest enrich dubious defend reliv wasp v leicest happen spencer red card soon tiger got back within seven point host tell moment leicest second rower adjudg gone high challeng wasp hooker tommi taylor made contact head shoulder de jongh gone open score dan robson took advantag fortun break run deep half bassett collect elliot dali fine kick score corner nathan hugh bundl gareth owen knock third home score georg ford set tri may astut kick telusa veainu tiger pack start rattl wasp interv result sion kalamafoni close rang effort dazzl de jongh tri anoth may ford combin saw england wing grab second tri put tiger ahead howev sopoaga kept nerv three consecut kick jade visit side close second win three match wasp'"
      ]
     },
     "execution_count": 31,
     "metadata": {},
     "output_type": "execute_result"
    }
   ],
   "source": [
    "X_forPredict_cleaned"
   ]
  },
  {
   "cell_type": "code",
   "execution_count": 32,
   "metadata": {},
   "outputs": [
    {
     "name": "stdout",
     "output_type": "stream",
     "text": [
      "The category of this news is predicted as: rugby\n"
     ]
    }
   ],
   "source": [
    "print('The category of this news is predicted as: ' + folders[model.predict([X_forPredict_cleaned])[0]]) "
   ]
  },
  {
   "cell_type": "markdown",
   "metadata": {},
   "source": [
    "This model provide correct prediction for today's news."
   ]
  },
  {
   "cell_type": "markdown",
   "metadata": {},
   "source": [
    "## 4. Conclusions\n",
    "In this script, a preditive model for automatic bbcsport news classification is developed and evaluated. The process pipeline include: (1) clean the raw text data; (2) extract tf-idf features from cleaned text; (3) select best features using chi-square test; (4) train and apply the linear SVM model to predict the category for unseen news documents. Optimal setting is seached by turning the important parameters of the model, obtaining a classification accuracy of 97%.\n",
    "\n",
    "In future, it would be interesting to try out different classifiers, such as Random Forest, Gradient Boosting Trees, etc. "
   ]
  },
  {
   "cell_type": "markdown",
   "metadata": {},
   "source": [
    "## 5. References\n",
    "\n",
    "http://scikit-learn.org/stable/modules/generated/sklearn.feature_extraction.text.TfidfVectorizer.html#sklearn.feature_extraction.text.TfidfVectorizer\n",
    "\n",
    "http://scikit-learn.org/stable/modules/generated/sklearn.feature_selection.chi2.html#sklearn.feature_selection.chi2\n",
    "\n",
    "http://scikit-learn.org/stable/modules/generated/sklearn.svm.LinearSVC.html\n",
    "\n",
    "http://scikit-learn.org/stable/auto_examples/text/document_classification_20newsgroups.html#sphx-glr-auto-examples-text-document-classification-20newsgroups-py\n",
    "\n",
    "https://cloud.google.com/blog/products/gcp/problem-solving-with-ml-automatic-document-classification\n",
    "\n",
    "https://github.com/suraj-deshmukh/BBC-Dataset-News-Classification\n",
    "\n",
    "https://github.com/giuseppebonaccorso/bbc_news_classification_comparison/blob/master/BBC%20News%20classification%20comparison.ipynb\n",
    "\n",
    "https://www.youtube.com/watch?v=5xDE06RRMFk&ab_channel=Coding-Maniac\n",
    "\n",
    "https://www.youtube.com/watch?v=CArkneSPNr4&ab_channel=Coding-Maniac\n",
    "\n",
    "https://textminingonline.com/dive-into-nltk-part-iv-stemming-and-lemmatization"
   ]
  },
  {
   "cell_type": "code",
   "execution_count": null,
   "metadata": {
    "collapsed": true
   },
   "outputs": [],
   "source": []
  }
 ],
 "metadata": {
  "kernelspec": {
   "display_name": "Python [conda root]",
   "language": "python",
   "name": "conda-root-py"
  },
  "language_info": {
   "codemirror_mode": {
    "name": "ipython",
    "version": 3
   },
   "file_extension": ".py",
   "mimetype": "text/x-python",
   "name": "python",
   "nbconvert_exporter": "python",
   "pygments_lexer": "ipython3",
   "version": "3.6.3"
  }
 },
 "nbformat": 4,
 "nbformat_minor": 2
}
